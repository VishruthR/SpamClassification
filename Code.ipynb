{
  "nbformat": 4,
  "nbformat_minor": 0,
  "metadata": {
    "colab": {
      "name": "Code.ipynb",
      "provenance": [],
      "collapsed_sections": []
    },
    "kernelspec": {
      "name": "python3",
      "display_name": "Python 3"
    },
    "language_info": {
      "name": "python"
    }
  },
  "cells": [
    {
      "cell_type": "code",
      "metadata": {
        "id": "BluNvvOsaioC"
      },
      "source": [
        "import pandas as pd\n",
        "import numpy as np\n",
        "from tensorflow.keras.preprocessing.text import Tokenizer\n",
        "from tensorflow.keras.preprocessing.sequence import pad_sequences\n",
        "import tensorflow as tf\n",
        "import matplotlib.pyplot as plt"
      ],
      "execution_count": 1,
      "outputs": []
    },
    {
      "cell_type": "code",
      "metadata": {
        "colab": {
          "base_uri": "https://localhost:8080/"
        },
        "id": "hUe8ZaGkZYVf",
        "outputId": "b6b12b97-9a57-4e6e-eee0-e0ebd8b92c28"
      },
      "source": [
        "from google.colab import drive\n",
        "drive.mount('/content/drive')"
      ],
      "execution_count": 2,
      "outputs": [
        {
          "output_type": "stream",
          "text": [
            "Mounted at /content/drive\n"
          ],
          "name": "stdout"
        }
      ]
    },
    {
      "cell_type": "code",
      "metadata": {
        "id": "sLyFNo-iaVC_"
      },
      "source": [
        "df = pd.read_csv( \"/content/drive/MyDrive/HorizonHW/Project/spam.csv\", usecols=['v1','v2'], encoding='latin-1' )"
      ],
      "execution_count": 3,
      "outputs": []
    },
    {
      "cell_type": "code",
      "metadata": {
        "colab": {
          "base_uri": "https://localhost:8080/",
          "height": 204
        },
        "id": "yqXXhK_kba4I",
        "outputId": "1fb72069-646d-4776-8e94-40c374983e2f"
      },
      "source": [
        "df.head()"
      ],
      "execution_count": 4,
      "outputs": [
        {
          "output_type": "execute_result",
          "data": {
            "text/html": [
              "<div>\n",
              "<style scoped>\n",
              "    .dataframe tbody tr th:only-of-type {\n",
              "        vertical-align: middle;\n",
              "    }\n",
              "\n",
              "    .dataframe tbody tr th {\n",
              "        vertical-align: top;\n",
              "    }\n",
              "\n",
              "    .dataframe thead th {\n",
              "        text-align: right;\n",
              "    }\n",
              "</style>\n",
              "<table border=\"1\" class=\"dataframe\">\n",
              "  <thead>\n",
              "    <tr style=\"text-align: right;\">\n",
              "      <th></th>\n",
              "      <th>v1</th>\n",
              "      <th>v2</th>\n",
              "    </tr>\n",
              "  </thead>\n",
              "  <tbody>\n",
              "    <tr>\n",
              "      <th>0</th>\n",
              "      <td>ham</td>\n",
              "      <td>Go until jurong point, crazy.. Available only ...</td>\n",
              "    </tr>\n",
              "    <tr>\n",
              "      <th>1</th>\n",
              "      <td>ham</td>\n",
              "      <td>Ok lar... Joking wif u oni...</td>\n",
              "    </tr>\n",
              "    <tr>\n",
              "      <th>2</th>\n",
              "      <td>spam</td>\n",
              "      <td>Free entry in 2 a wkly comp to win FA Cup fina...</td>\n",
              "    </tr>\n",
              "    <tr>\n",
              "      <th>3</th>\n",
              "      <td>ham</td>\n",
              "      <td>U dun say so early hor... U c already then say...</td>\n",
              "    </tr>\n",
              "    <tr>\n",
              "      <th>4</th>\n",
              "      <td>ham</td>\n",
              "      <td>Nah I don't think he goes to usf, he lives aro...</td>\n",
              "    </tr>\n",
              "  </tbody>\n",
              "</table>\n",
              "</div>"
            ],
            "text/plain": [
              "     v1                                                 v2\n",
              "0   ham  Go until jurong point, crazy.. Available only ...\n",
              "1   ham                      Ok lar... Joking wif u oni...\n",
              "2  spam  Free entry in 2 a wkly comp to win FA Cup fina...\n",
              "3   ham  U dun say so early hor... U c already then say...\n",
              "4   ham  Nah I don't think he goes to usf, he lives aro..."
            ]
          },
          "metadata": {
            "tags": []
          },
          "execution_count": 4
        }
      ]
    },
    {
      "cell_type": "code",
      "metadata": {
        "id": "6TyatoZFcfYf"
      },
      "source": [
        "map = { 'spam': 1, 'ham': 0 }\n",
        "df[ 'spam' ] = df[ 'v1' ].map( map )"
      ],
      "execution_count": 5,
      "outputs": []
    },
    {
      "cell_type": "code",
      "metadata": {
        "colab": {
          "base_uri": "https://localhost:8080/",
          "height": 204
        },
        "id": "TCaMt20qulpJ",
        "outputId": "1466fbff-38d0-4192-ce85-fc285879ad6b"
      },
      "source": [
        "df.head()"
      ],
      "execution_count": 6,
      "outputs": [
        {
          "output_type": "execute_result",
          "data": {
            "text/html": [
              "<div>\n",
              "<style scoped>\n",
              "    .dataframe tbody tr th:only-of-type {\n",
              "        vertical-align: middle;\n",
              "    }\n",
              "\n",
              "    .dataframe tbody tr th {\n",
              "        vertical-align: top;\n",
              "    }\n",
              "\n",
              "    .dataframe thead th {\n",
              "        text-align: right;\n",
              "    }\n",
              "</style>\n",
              "<table border=\"1\" class=\"dataframe\">\n",
              "  <thead>\n",
              "    <tr style=\"text-align: right;\">\n",
              "      <th></th>\n",
              "      <th>v1</th>\n",
              "      <th>v2</th>\n",
              "      <th>spam</th>\n",
              "    </tr>\n",
              "  </thead>\n",
              "  <tbody>\n",
              "    <tr>\n",
              "      <th>0</th>\n",
              "      <td>ham</td>\n",
              "      <td>Go until jurong point, crazy.. Available only ...</td>\n",
              "      <td>0</td>\n",
              "    </tr>\n",
              "    <tr>\n",
              "      <th>1</th>\n",
              "      <td>ham</td>\n",
              "      <td>Ok lar... Joking wif u oni...</td>\n",
              "      <td>0</td>\n",
              "    </tr>\n",
              "    <tr>\n",
              "      <th>2</th>\n",
              "      <td>spam</td>\n",
              "      <td>Free entry in 2 a wkly comp to win FA Cup fina...</td>\n",
              "      <td>1</td>\n",
              "    </tr>\n",
              "    <tr>\n",
              "      <th>3</th>\n",
              "      <td>ham</td>\n",
              "      <td>U dun say so early hor... U c already then say...</td>\n",
              "      <td>0</td>\n",
              "    </tr>\n",
              "    <tr>\n",
              "      <th>4</th>\n",
              "      <td>ham</td>\n",
              "      <td>Nah I don't think he goes to usf, he lives aro...</td>\n",
              "      <td>0</td>\n",
              "    </tr>\n",
              "  </tbody>\n",
              "</table>\n",
              "</div>"
            ],
            "text/plain": [
              "     v1                                                 v2  spam\n",
              "0   ham  Go until jurong point, crazy.. Available only ...     0\n",
              "1   ham                      Ok lar... Joking wif u oni...     0\n",
              "2  spam  Free entry in 2 a wkly comp to win FA Cup fina...     1\n",
              "3   ham  U dun say so early hor... U c already then say...     0\n",
              "4   ham  Nah I don't think he goes to usf, he lives aro...     0"
            ]
          },
          "metadata": {
            "tags": []
          },
          "execution_count": 6
        }
      ]
    },
    {
      "cell_type": "code",
      "metadata": {
        "colab": {
          "base_uri": "https://localhost:8080/"
        },
        "id": "VnTUlDgHeL8K",
        "outputId": "835ae1b7-4c70-4858-9f6d-352df12cbdb2"
      },
      "source": [
        "print( len( df[ df.spam == 1 ] ) )\n",
        "print( len( df[ df.spam == 0 ] ) )"
      ],
      "execution_count": 7,
      "outputs": [
        {
          "output_type": "stream",
          "text": [
            "747\n",
            "4825\n"
          ],
          "name": "stdout"
        }
      ]
    },
    {
      "cell_type": "code",
      "metadata": {
        "id": "NM2UDoBdeWbg"
      },
      "source": [
        "features = df[ 'v2' ].values.tolist()\n",
        "labels = df[ 'spam' ].values.tolist()"
      ],
      "execution_count": 8,
      "outputs": []
    },
    {
      "cell_type": "code",
      "metadata": {
        "id": "yq-B9BZxB3so"
      },
      "source": [
        "#Sets the size of the train and test sets and splits the data up\n",
        "training_size = int( len( features ) * 0.7 )\n",
        "test_size = int( len( features ) * 0.9 )\n",
        "\n",
        "training_features = features[ 0 : training_size ]\n",
        "training_labels = labels[ 0 : training_size ]\n",
        "test_features = features[ training_size : test_size ]\n",
        "test_labels = labels[ training_size : test_size ]\n",
        "\n",
        "check_features = features[ test_size : ]\n",
        "check_labels = labels[ test_size : ]\n",
        "\n",
        "#Converts labels into np arrays for use in the network\n",
        "training_labels_f = np.array( training_labels )\n",
        "test_labels_f = np.array( test_labels )"
      ],
      "execution_count": 19,
      "outputs": []
    },
    {
      "cell_type": "code",
      "metadata": {
        "id": "G0lc3XT_Cw6M"
      },
      "source": [
        "#Initializes information necessary for tokenization\n",
        "vocab_size = 1000\n",
        "embedding_dim = 16\n",
        "max_length = 100\n",
        "trunc_type = 'post'\n",
        "padding_type = 'post'\n",
        "oov_tok = \"<OOV>\""
      ],
      "execution_count": 20,
      "outputs": []
    },
    {
      "cell_type": "code",
      "metadata": {
        "id": "w0N6LYnyDxZN"
      },
      "source": [
        "#Creates a word index based on the training features and orders the words in each feature appropriately\n",
        "tokenizer = Tokenizer( num_words = vocab_size, oov_token = oov_tok)\n",
        "tokenizer.fit_on_texts( training_features )\n",
        "word_index = tokenizer.word_index\n",
        "\n",
        "sequences = tokenizer.texts_to_sequences( training_features )"
      ],
      "execution_count": 21,
      "outputs": []
    },
    {
      "cell_type": "code",
      "metadata": {
        "id": "VnMu2qPiEMTz"
      },
      "source": [
        "#Padding is added to ensure each string is of the same length\n",
        "pad = pad_sequences( sequences, maxlen = max_length, padding = padding_type, truncating = trunc_type )\n",
        "\n",
        "#Transforms texts to sequence of integers\n",
        "test_sequences = tokenizer.texts_to_sequences( test_features )\n",
        "test_padded = pad_sequences( test_sequences, maxlen = max_length, padding = padding_type, truncating = trunc_type )"
      ],
      "execution_count": 22,
      "outputs": []
    },
    {
      "cell_type": "code",
      "metadata": {
        "colab": {
          "base_uri": "https://localhost:8080/"
        },
        "id": "zS1NYzFZFASf",
        "outputId": "e4bdb788-954b-4107-fe17-f461804db55e"
      },
      "source": [
        "#Architecture of the Neural Network\n",
        "model = tf.keras.Sequential( [tf.keras.layers.Embedding( vocab_size, embedding_dim, input_length = max_length ), \n",
        "                              tf.keras.layers.Flatten(),\n",
        "                              tf.keras.layers.Dense( 6, activation = 'relu' ),\n",
        "                              tf.keras.layers.Dense( 1, activation = 'sigmoid' )\n",
        "                              ] )\n",
        "\n",
        "model.compile( loss = 'binary_crossentropy', optimizer = 'adam', metrics = [ 'accuracy' ] )\n",
        "model.summary()"
      ],
      "execution_count": 55,
      "outputs": [
        {
          "output_type": "stream",
          "text": [
            "Model: \"sequential_8\"\n",
            "_________________________________________________________________\n",
            "Layer (type)                 Output Shape              Param #   \n",
            "=================================================================\n",
            "embedding_8 (Embedding)      (None, 100, 16)           16000     \n",
            "_________________________________________________________________\n",
            "flatten_8 (Flatten)          (None, 1600)              0         \n",
            "_________________________________________________________________\n",
            "dense_28 (Dense)             (None, 6)                 9606      \n",
            "_________________________________________________________________\n",
            "dense_29 (Dense)             (None, 1)                 7         \n",
            "=================================================================\n",
            "Total params: 25,613\n",
            "Trainable params: 25,613\n",
            "Non-trainable params: 0\n",
            "_________________________________________________________________\n"
          ],
          "name": "stdout"
        }
      ]
    },
    {
      "cell_type": "code",
      "metadata": {
        "colab": {
          "base_uri": "https://localhost:8080/"
        },
        "id": "49qwCfjiGbz9",
        "outputId": "c99f6ca2-415f-49d0-edfd-49f6961dd142"
      },
      "source": [
        "epoch = 20\n",
        "history = model.fit( pad, training_labels_f, epochs = epoch, validation_data = ( test_padded, test_labels_f ) )"
      ],
      "execution_count": 56,
      "outputs": [
        {
          "output_type": "stream",
          "text": [
            "Epoch 1/20\n",
            "122/122 [==============================] - 1s 4ms/step - loss: 0.3186 - accuracy: 0.8662 - val_loss: 0.2066 - val_accuracy: 0.8600\n",
            "Epoch 2/20\n",
            "122/122 [==============================] - 0s 3ms/step - loss: 0.1633 - accuracy: 0.9292 - val_loss: 0.1427 - val_accuracy: 0.9695\n",
            "Epoch 3/20\n",
            "122/122 [==============================] - 0s 3ms/step - loss: 0.0765 - accuracy: 0.9803 - val_loss: 0.0737 - val_accuracy: 0.9785\n",
            "Epoch 4/20\n",
            "122/122 [==============================] - 0s 3ms/step - loss: 0.0439 - accuracy: 0.9885 - val_loss: 0.0649 - val_accuracy: 0.9803\n",
            "Epoch 5/20\n",
            "122/122 [==============================] - 0s 3ms/step - loss: 0.0304 - accuracy: 0.9908 - val_loss: 0.0559 - val_accuracy: 0.9829\n",
            "Epoch 6/20\n",
            "122/122 [==============================] - 0s 3ms/step - loss: 0.0221 - accuracy: 0.9936 - val_loss: 0.0564 - val_accuracy: 0.9829\n",
            "Epoch 7/20\n",
            "122/122 [==============================] - 0s 3ms/step - loss: 0.0163 - accuracy: 0.9949 - val_loss: 0.0606 - val_accuracy: 0.9838\n",
            "Epoch 8/20\n",
            "122/122 [==============================] - 0s 3ms/step - loss: 0.0116 - accuracy: 0.9962 - val_loss: 0.0540 - val_accuracy: 0.9847\n",
            "Epoch 9/20\n",
            "122/122 [==============================] - 0s 3ms/step - loss: 0.0091 - accuracy: 0.9977 - val_loss: 0.0580 - val_accuracy: 0.9829\n",
            "Epoch 10/20\n",
            "122/122 [==============================] - 0s 3ms/step - loss: 0.0072 - accuracy: 0.9985 - val_loss: 0.0593 - val_accuracy: 0.9838\n",
            "Epoch 11/20\n",
            "122/122 [==============================] - 0s 3ms/step - loss: 0.0057 - accuracy: 0.9990 - val_loss: 0.0676 - val_accuracy: 0.9829\n",
            "Epoch 12/20\n",
            "122/122 [==============================] - 0s 3ms/step - loss: 0.0047 - accuracy: 0.9992 - val_loss: 0.0711 - val_accuracy: 0.9820\n",
            "Epoch 13/20\n",
            "122/122 [==============================] - 0s 3ms/step - loss: 0.0035 - accuracy: 0.9995 - val_loss: 0.0672 - val_accuracy: 0.9838\n",
            "Epoch 14/20\n",
            "122/122 [==============================] - 0s 3ms/step - loss: 0.0032 - accuracy: 0.9995 - val_loss: 0.0733 - val_accuracy: 0.9838\n",
            "Epoch 15/20\n",
            "122/122 [==============================] - 0s 3ms/step - loss: 0.0024 - accuracy: 0.9997 - val_loss: 0.0779 - val_accuracy: 0.9829\n",
            "Epoch 16/20\n",
            "122/122 [==============================] - 0s 3ms/step - loss: 0.0023 - accuracy: 0.9997 - val_loss: 0.0792 - val_accuracy: 0.9820\n",
            "Epoch 17/20\n",
            "122/122 [==============================] - 0s 2ms/step - loss: 0.0018 - accuracy: 0.9997 - val_loss: 0.0795 - val_accuracy: 0.9829\n",
            "Epoch 18/20\n",
            "122/122 [==============================] - 0s 3ms/step - loss: 0.0015 - accuracy: 0.9997 - val_loss: 0.0776 - val_accuracy: 0.9829\n",
            "Epoch 19/20\n",
            "122/122 [==============================] - 0s 3ms/step - loss: 0.0011 - accuracy: 0.9997 - val_loss: 0.0837 - val_accuracy: 0.9820\n",
            "Epoch 20/20\n",
            "122/122 [==============================] - 0s 3ms/step - loss: 9.8001e-04 - accuracy: 0.9997 - val_loss: 0.0864 - val_accuracy: 0.9820\n"
          ],
          "name": "stdout"
        }
      ]
    },
    {
      "cell_type": "code",
      "metadata": {
        "colab": {
          "base_uri": "https://localhost:8080/",
          "height": 282
        },
        "id": "p45gopIbHoUX",
        "outputId": "eb168afb-93bd-44ea-cce6-994edb7fb1a4"
      },
      "source": [
        "plt.plot( history.history[ 'loss' ] )\n",
        "plt.plot( history.history[ 'val_loss' ] )"
      ],
      "execution_count": 57,
      "outputs": [
        {
          "output_type": "execute_result",
          "data": {
            "text/plain": [
              "[<matplotlib.lines.Line2D at 0x7f6e2beba590>]"
            ]
          },
          "metadata": {
            "tags": []
          },
          "execution_count": 57
        },
        {
          "output_type": "display_data",
          "data": {
            "image/png": "[encoded data removed]",
            "text/plain": [
              "<Figure size 432x288 with 1 Axes>"
            ]
          },
          "metadata": {
            "tags": [],
            "needs_background": "light"
          }
        }
      ]
    },
    {
      "cell_type": "code",
      "metadata": {
        "colab": {
          "base_uri": "https://localhost:8080/"
        },
        "id": "tI-vC70xJgxG",
        "outputId": "0fd076dd-d288-454d-99db-b4ca967c22a5"
      },
      "source": [
        "#Converts the check set into tokenized and padded sequences\n",
        "padding_type = 'post'\n",
        "sample_sequences = tokenizer.texts_to_sequences( check_features )\n",
        "checks_padded = pad_sequences( sample_sequences, padding = padding_type, maxlen = max_length )\n",
        "\n",
        "classes = model.predict( checks_padded )\n",
        "classes_rounded = classes\n",
        "\n",
        "#Initializes variables to check accuracy of the model\n",
        "unsure = 0\n",
        "correct = 0\n",
        "wrong = 0\n",
        "\n",
        "#Runs through the check array and finds the number of unsure, correct, and incorrect predictions\n",
        "for x in range( len( check_features ) ):\n",
        "  if classes[x] < 0.4:\n",
        "    classes_rounded[x] = 0\n",
        "  elif classes[x] > 0.6:\n",
        "    classes_rounded[x] = 1\n",
        "  else:\n",
        "    classes_rounded[x] = 2\n",
        "  \n",
        "  if classes_rounded[x] == 2:\n",
        "    unsure += 1\n",
        "  elif classes_rounded[x] == check_labels[x]:\n",
        "    correct += 1\n",
        "  else:\n",
        "    wrong += 1\n",
        "\n",
        "print( \"The model made \" + str( correct ) + \" correct predictions, \" + str( wrong ) + \" wrong predictions, \" + \" and was unsure \" + str( unsure ) + \" times.\" )"
      ],
      "execution_count": 58,
      "outputs": [
        {
          "output_type": "stream",
          "text": [
            "The model made 549 correct predictions, 7 wrong predictions,  and was unsure 2 times.\n"
          ],
          "name": "stdout"
        }
      ]
    },
    {
      "cell_type": "code",
      "metadata": {
        "id": "FfRUqLC3KafZ"
      },
      "source": [
        ""
      ],
      "execution_count": 30,
      "outputs": []
    },
    {
      "cell_type": "code",
      "metadata": {
        "id": "5ewKSURt74Ac"
      },
      "source": [
        ""
      ],
      "execution_count": null,
      "outputs": []
    }
  ]
}