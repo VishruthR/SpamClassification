{
  "nbformat": 4,
  "nbformat_minor": 0,
  "metadata": {
    "colab": {
      "name": "Code.ipynb",
      "provenance": [],
      "collapsed_sections": []
    },
    "kernelspec": {
      "name": "python3",
      "display_name": "Python 3"
    },
    "language_info": {
      "name": "python"
    }
  },
  "cells": [
    {
      "cell_type": "code",
      "metadata": {
        "id": "BluNvvOsaioC"
      },
      "source": [
        "import pandas as pd\n",
        "import numpy as np\n",
        "from tensorflow.keras.preprocessing.text import Tokenizer\n",
        "from tensorflow.keras.preprocessing.sequence import pad_sequences\n",
        "import tensorflow as tf\n",
        "import matplotlib.pyplot as plt"
      ],
      "execution_count": null,
      "outputs": []
    },
    {
      "cell_type": "code",
      "metadata": {
        "colab": {
          "base_uri": "https://localhost:8080/"
        },
        "id": "hUe8ZaGkZYVf",
        "outputId": "621416b0-0911-4d01-f8ad-277ca288576d"
      },
      "source": [
        "from google.colab import drive\n",
        "drive.mount('/content/drive')"
      ],
      "execution_count": null,
      "outputs": [
        {
          "output_type": "stream",
          "text": [
            "Drive already mounted at /content/drive; to attempt to forcibly remount, call drive.mount(\"/content/drive\", force_remount=True).\n"
          ],
          "name": "stdout"
        }
      ]
    },
    {
      "cell_type": "code",
      "metadata": {
        "id": "sLyFNo-iaVC_"
      },
      "source": [
        "df = pd.read_csv( \"/content/drive/MyDrive/HorizonHW/Project/spam.csv\", usecols=['v1','v2'], encoding='latin-1' )"
      ],
      "execution_count": null,
      "outputs": []
    },
    {
      "cell_type": "code",
      "metadata": {
        "colab": {
          "base_uri": "https://localhost:8080/",
          "height": 204
        },
        "id": "yqXXhK_kba4I",
        "outputId": "09152780-1f39-426b-ff47-99ee0aed1fca"
      },
      "source": [
        "df.head()"
      ],
      "execution_count": null,
      "outputs": [
        {
          "output_type": "execute_result",
          "data": {
            "text/html": [
              "<div>\n",
              "<style scoped>\n",
              "    .dataframe tbody tr th:only-of-type {\n",
              "        vertical-align: middle;\n",
              "    }\n",
              "\n",
              "    .dataframe tbody tr th {\n",
              "        vertical-align: top;\n",
              "    }\n",
              "\n",
              "    .dataframe thead th {\n",
              "        text-align: right;\n",
              "    }\n",
              "</style>\n",
              "<table border=\"1\" class=\"dataframe\">\n",
              "  <thead>\n",
              "    <tr style=\"text-align: right;\">\n",
              "      <th></th>\n",
              "      <th>v1</th>\n",
              "      <th>v2</th>\n",
              "    </tr>\n",
              "  </thead>\n",
              "  <tbody>\n",
              "    <tr>\n",
              "      <th>0</th>\n",
              "      <td>ham</td>\n",
              "      <td>Go until jurong point, crazy.. Available only ...</td>\n",
              "    </tr>\n",
              "    <tr>\n",
              "      <th>1</th>\n",
              "      <td>ham</td>\n",
              "      <td>Ok lar... Joking wif u oni...</td>\n",
              "    </tr>\n",
              "    <tr>\n",
              "      <th>2</th>\n",
              "      <td>spam</td>\n",
              "      <td>Free entry in 2 a wkly comp to win FA Cup fina...</td>\n",
              "    </tr>\n",
              "    <tr>\n",
              "      <th>3</th>\n",
              "      <td>ham</td>\n",
              "      <td>U dun say so early hor... U c already then say...</td>\n",
              "    </tr>\n",
              "    <tr>\n",
              "      <th>4</th>\n",
              "      <td>ham</td>\n",
              "      <td>Nah I don't think he goes to usf, he lives aro...</td>\n",
              "    </tr>\n",
              "  </tbody>\n",
              "</table>\n",
              "</div>"
            ],
            "text/plain": [
              "     v1                                                 v2\n",
              "0   ham  Go until jurong point, crazy.. Available only ...\n",
              "1   ham                      Ok lar... Joking wif u oni...\n",
              "2  spam  Free entry in 2 a wkly comp to win FA Cup fina...\n",
              "3   ham  U dun say so early hor... U c already then say...\n",
              "4   ham  Nah I don't think he goes to usf, he lives aro..."
            ]
          },
          "metadata": {
            "tags": []
          },
          "execution_count": 5
        }
      ]
    },
    {
      "cell_type": "code",
      "metadata": {
        "id": "6TyatoZFcfYf"
      },
      "source": [
        "map = { 'spam': 1, 'ham': 0 }\n",
        "df[ 'spam' ] = df[ 'v1' ].map( map )"
      ],
      "execution_count": null,
      "outputs": []
    },
    {
      "cell_type": "code",
      "metadata": {
        "colab": {
          "base_uri": "https://localhost:8080/",
          "height": 204
        },
        "id": "TCaMt20qulpJ",
        "outputId": "5ad5f84d-a286-44ea-f77d-23317266b4d1"
      },
      "source": [
        "df.head()"
      ],
      "execution_count": null,
      "outputs": [
        {
          "output_type": "execute_result",
          "data": {
            "text/html": [
              "<div>\n",
              "<style scoped>\n",
              "    .dataframe tbody tr th:only-of-type {\n",
              "        vertical-align: middle;\n",
              "    }\n",
              "\n",
              "    .dataframe tbody tr th {\n",
              "        vertical-align: top;\n",
              "    }\n",
              "\n",
              "    .dataframe thead th {\n",
              "        text-align: right;\n",
              "    }\n",
              "</style>\n",
              "<table border=\"1\" class=\"dataframe\">\n",
              "  <thead>\n",
              "    <tr style=\"text-align: right;\">\n",
              "      <th></th>\n",
              "      <th>v1</th>\n",
              "      <th>v2</th>\n",
              "      <th>spam</th>\n",
              "    </tr>\n",
              "  </thead>\n",
              "  <tbody>\n",
              "    <tr>\n",
              "      <th>0</th>\n",
              "      <td>ham</td>\n",
              "      <td>Go until jurong point, crazy.. Available only ...</td>\n",
              "      <td>0</td>\n",
              "    </tr>\n",
              "    <tr>\n",
              "      <th>1</th>\n",
              "      <td>ham</td>\n",
              "      <td>Ok lar... Joking wif u oni...</td>\n",
              "      <td>0</td>\n",
              "    </tr>\n",
              "    <tr>\n",
              "      <th>2</th>\n",
              "      <td>spam</td>\n",
              "      <td>Free entry in 2 a wkly comp to win FA Cup fina...</td>\n",
              "      <td>1</td>\n",
              "    </tr>\n",
              "    <tr>\n",
              "      <th>3</th>\n",
              "      <td>ham</td>\n",
              "      <td>U dun say so early hor... U c already then say...</td>\n",
              "      <td>0</td>\n",
              "    </tr>\n",
              "    <tr>\n",
              "      <th>4</th>\n",
              "      <td>ham</td>\n",
              "      <td>Nah I don't think he goes to usf, he lives aro...</td>\n",
              "      <td>0</td>\n",
              "    </tr>\n",
              "  </tbody>\n",
              "</table>\n",
              "</div>"
            ],
            "text/plain": [
              "     v1                                                 v2  spam\n",
              "0   ham  Go until jurong point, crazy.. Available only ...     0\n",
              "1   ham                      Ok lar... Joking wif u oni...     0\n",
              "2  spam  Free entry in 2 a wkly comp to win FA Cup fina...     1\n",
              "3   ham  U dun say so early hor... U c already then say...     0\n",
              "4   ham  Nah I don't think he goes to usf, he lives aro...     0"
            ]
          },
          "metadata": {
            "tags": []
          },
          "execution_count": 7
        }
      ]
    },
    {
      "cell_type": "code",
      "metadata": {
        "colab": {
          "base_uri": "https://localhost:8080/"
        },
        "id": "VnTUlDgHeL8K",
        "outputId": "dd4579c8-55bd-477c-c132-14565cd65315"
      },
      "source": [
        "print( len( df[ df.spam == 1 ] ) )\n",
        "print( len( df[ df.spam == 0 ] ) )"
      ],
      "execution_count": null,
      "outputs": [
        {
          "output_type": "stream",
          "text": [
            "747\n",
            "4825\n"
          ],
          "name": "stdout"
        }
      ]
    },
    {
      "cell_type": "code",
      "metadata": {
        "id": "NM2UDoBdeWbg"
      },
      "source": [
        "features = df[ 'v2' ].values.tolist()\n",
        "labels = df[ 'spam' ].values.tolist()"
      ],
      "execution_count": null,
      "outputs": []
    },
    {
      "cell_type": "code",
      "metadata": {
        "id": "yq-B9BZxB3so"
      },
      "source": [
        "#Sets the size of the train, validation, and check sets and splits the data up\n",
        "training_size = int( len( features ) * 0.7 )\n",
        "val_size = int( len( features ) * 0.9 )\n",
        "\n",
        "training_features = features[ 0 : training_size ]\n",
        "training_labels = labels[ 0 : training_size ]\n",
        "val_features = features[ training_size : val_size ]\n",
        "val_labels = labels[ training_size : val_size ]\n",
        "\n",
        "check_features = features[ val_size : ]\n",
        "check_labels = labels[ val_size : ]\n",
        "\n",
        "#Converts labels into np arrays for use in the network\n",
        "training_labels_f = np.array( training_labels )\n",
        "val_labels_f = np.array( val_labels )"
      ],
      "execution_count": null,
      "outputs": []
    },
    {
      "cell_type": "code",
      "metadata": {
        "id": "G0lc3XT_Cw6M"
      },
      "source": [
        "#Initializes information necessary for tokenization\n",
        "vocab_size = 1000\n",
        "embedding_dim = 16\n",
        "max_length = 100\n",
        "trunc_type = 'post'\n",
        "padding_type = 'post'\n",
        "oov_tok = \"<OOV>\""
      ],
      "execution_count": null,
      "outputs": []
    },
    {
      "cell_type": "code",
      "metadata": {
        "id": "w0N6LYnyDxZN"
      },
      "source": [
        "#Creates a word index based on the training features and orders the words in each feature appropriately\n",
        "tokenizer = Tokenizer( num_words = vocab_size, oov_token = oov_tok)\n",
        "tokenizer.fit_on_texts( training_features )\n",
        "word_index = tokenizer.word_index\n",
        "\n",
        "sequences = tokenizer.texts_to_sequences( training_features )"
      ],
      "execution_count": null,
      "outputs": []
    },
    {
      "cell_type": "code",
      "metadata": {
        "id": "VnMu2qPiEMTz"
      },
      "source": [
        "#Padding is added to ensure each string is of the same length\n",
        "pad = pad_sequences( sequences, maxlen = max_length, padding = padding_type, truncating = trunc_type )\n",
        "\n",
        "#Transforms texts to sequence of integers\n",
        "val_sequences = tokenizer.texts_to_sequences( val_features )\n",
        "val_padded = pad_sequences( val_sequences, maxlen = max_length, padding = padding_type, truncating = trunc_type )"
      ],
      "execution_count": null,
      "outputs": []
    },
    {
      "cell_type": "code",
      "metadata": {
        "colab": {
          "base_uri": "https://localhost:8080/"
        },
        "id": "zS1NYzFZFASf",
        "outputId": "b16438dc-8af5-4c60-966b-ed2282c938fb"
      },
      "source": [
        "#Architecture of the Neural Network\n",
        "model = tf.keras.Sequential( [tf.keras.layers.Embedding( vocab_size, embedding_dim, input_length = max_length ), \n",
        "                              tf.keras.layers.Flatten(),\n",
        "                              tf.keras.layers.Dense( 6, activation = 'relu' ),\n",
        "                              tf.keras.layers.Dense( 1, activation = 'sigmoid' )\n",
        "                              ] )\n",
        "\n",
        "model.compile( loss = 'binary_crossentropy', optimizer = 'adam', metrics = [ 'accuracy' ] )\n",
        "model.summary()"
      ],
      "execution_count": null,
      "outputs": [
        {
          "output_type": "stream",
          "text": [
            "Model: \"sequential_1\"\n",
            "_________________________________________________________________\n",
            "Layer (type)                 Output Shape              Param #   \n",
            "=================================================================\n",
            "embedding_1 (Embedding)      (None, 100, 16)           16000     \n",
            "_________________________________________________________________\n",
            "flatten_1 (Flatten)          (None, 1600)              0         \n",
            "_________________________________________________________________\n",
            "dense_2 (Dense)              (None, 6)                 9606      \n",
            "_________________________________________________________________\n",
            "dense_3 (Dense)              (None, 1)                 7         \n",
            "=================================================================\n",
            "Total params: 25,613\n",
            "Trainable params: 25,613\n",
            "Non-trainable params: 0\n",
            "_________________________________________________________________\n"
          ],
          "name": "stdout"
        }
      ]
    },
    {
      "cell_type": "code",
      "metadata": {
        "colab": {
          "base_uri": "https://localhost:8080/"
        },
        "id": "49qwCfjiGbz9",
        "outputId": "1bb0cb31-8063-4924-9ab5-9c92ddc1c1d4"
      },
      "source": [
        "epoch = 20\n",
        "history = model.fit( pad, training_labels_f, epochs = epoch, validation_data = ( val_padded, val_labels_f ) )"
      ],
      "execution_count": null,
      "outputs": [
        {
          "output_type": "stream",
          "text": [
            "Epoch 1/20\n",
            "122/122 [==============================] - 1s 4ms/step - loss: 0.4204 - accuracy: 0.8618 - val_loss: 0.3206 - val_accuracy: 0.8600\n",
            "Epoch 2/20\n",
            "122/122 [==============================] - 0s 2ms/step - loss: 0.2295 - accuracy: 0.8667 - val_loss: 0.1962 - val_accuracy: 0.8600\n",
            "Epoch 3/20\n",
            "122/122 [==============================] - 0s 3ms/step - loss: 0.1648 - accuracy: 0.8995 - val_loss: 0.1682 - val_accuracy: 0.9650\n",
            "Epoch 4/20\n",
            "122/122 [==============================] - 1s 5ms/step - loss: 0.1431 - accuracy: 0.9715 - val_loss: 0.1515 - val_accuracy: 0.9677\n",
            "Epoch 5/20\n",
            "122/122 [==============================] - 0s 3ms/step - loss: 0.1231 - accuracy: 0.9785 - val_loss: 0.0798 - val_accuracy: 0.9785\n",
            "Epoch 6/20\n",
            "122/122 [==============================] - 0s 3ms/step - loss: 0.0447 - accuracy: 0.9854 - val_loss: 0.0593 - val_accuracy: 0.9811\n",
            "Epoch 7/20\n",
            "122/122 [==============================] - 0s 3ms/step - loss: 0.0305 - accuracy: 0.9900 - val_loss: 0.0602 - val_accuracy: 0.9811\n",
            "Epoch 8/20\n",
            "122/122 [==============================] - 0s 3ms/step - loss: 0.0238 - accuracy: 0.9921 - val_loss: 0.0552 - val_accuracy: 0.9829\n",
            "Epoch 9/20\n",
            "122/122 [==============================] - 0s 3ms/step - loss: 0.0201 - accuracy: 0.9938 - val_loss: 0.0548 - val_accuracy: 0.9820\n",
            "Epoch 10/20\n",
            "122/122 [==============================] - 0s 2ms/step - loss: 0.0158 - accuracy: 0.9954 - val_loss: 0.0552 - val_accuracy: 0.9838\n",
            "Epoch 11/20\n",
            "122/122 [==============================] - 0s 2ms/step - loss: 0.0122 - accuracy: 0.9959 - val_loss: 0.0599 - val_accuracy: 0.9829\n",
            "Epoch 12/20\n",
            "122/122 [==============================] - 0s 3ms/step - loss: 0.0104 - accuracy: 0.9969 - val_loss: 0.0667 - val_accuracy: 0.9838\n",
            "Epoch 13/20\n",
            "122/122 [==============================] - 0s 2ms/step - loss: 0.0086 - accuracy: 0.9985 - val_loss: 0.0600 - val_accuracy: 0.9838\n",
            "Epoch 14/20\n",
            "122/122 [==============================] - 0s 3ms/step - loss: 0.0073 - accuracy: 0.9987 - val_loss: 0.0622 - val_accuracy: 0.9847\n",
            "Epoch 15/20\n",
            "122/122 [==============================] - 0s 2ms/step - loss: 0.0060 - accuracy: 0.9995 - val_loss: 0.0621 - val_accuracy: 0.9838\n",
            "Epoch 16/20\n",
            "122/122 [==============================] - 0s 2ms/step - loss: 0.0053 - accuracy: 0.9992 - val_loss: 0.0620 - val_accuracy: 0.9847\n",
            "Epoch 17/20\n",
            "122/122 [==============================] - 0s 2ms/step - loss: 0.0046 - accuracy: 0.9995 - val_loss: 0.0643 - val_accuracy: 0.9847\n",
            "Epoch 18/20\n",
            "122/122 [==============================] - 0s 2ms/step - loss: 0.0039 - accuracy: 0.9995 - val_loss: 0.0721 - val_accuracy: 0.9838\n",
            "Epoch 19/20\n",
            "122/122 [==============================] - 0s 3ms/step - loss: 0.0034 - accuracy: 0.9995 - val_loss: 0.0699 - val_accuracy: 0.9838\n",
            "Epoch 20/20\n",
            "122/122 [==============================] - 0s 3ms/step - loss: 0.0030 - accuracy: 0.9995 - val_loss: 0.0705 - val_accuracy: 0.9838\n"
          ],
          "name": "stdout"
        }
      ]
    },
    {
      "cell_type": "code",
      "metadata": {
        "colab": {
          "base_uri": "https://localhost:8080/",
          "height": 282
        },
        "id": "p45gopIbHoUX",
        "outputId": "6f0ff76d-87d7-4748-e5f1-cf43dc6e7114"
      },
      "source": [
        "plt.plot( history.history[ 'loss' ], '-b', label = 'Training Loss' )\n",
        "plt.plot( history.history[ 'val_loss' ], '-g', label = 'Validation Loss' )\n",
        "plt.legend()"
      ],
      "execution_count": null,
      "outputs": [
        {
          "output_type": "execute_result",
          "data": {
            "text/plain": [
              "<matplotlib.legend.Legend at 0x7f65c69f8c10>"
            ]
          },
          "metadata": {
            "tags": []
          },
          "execution_count": 33
        },
        {
          "output_type": "display_data",
          "data": {
            "image/png": "[encoded data removed]",
            "text/plain": [
              "<Figure size 432x288 with 1 Axes>"
            ]
          },
          "metadata": {
            "tags": [],
            "needs_background": "light"
          }
        }
      ]
    },
    {
      "cell_type": "code",
      "metadata": {
        "id": "FfRUqLC3KafZ"
      },
      "source": [
        "#Counts the amount of times a certain number shows up in a list; Used to find the number of positives and negatives in the test list|\n",
        "def count( num, l ):\n",
        "  count = 0\n",
        "  for x in l:\n",
        "    if x == num:\n",
        "      count += 1\n",
        "  return count\n"
      ],
      "execution_count": null,
      "outputs": []
    },
    {
      "cell_type": "code",
      "metadata": {
        "colab": {
          "base_uri": "https://localhost:8080/"
        },
        "id": "tI-vC70xJgxG",
        "outputId": "56e279f0-7552-4b6c-c892-597c899e3500"
      },
      "source": [
        "#Converts the check set into tokenized and padded sequences\n",
        "padding_type = 'post'\n",
        "sample_sequences = tokenizer.texts_to_sequences( check_features )\n",
        "checks_padded = pad_sequences( sample_sequences, padding = padding_type, maxlen = max_length )\n",
        "\n",
        "classes = model.predict( checks_padded )\n",
        "classes_rounded = classes\n",
        "\n",
        "#Initializes variables to check accuracy of the model\n",
        "unsure = 0\n",
        "correct = 0\n",
        "wrong = 0\n",
        "\n",
        "#Initializes some variables to track positives/negatives and true and false positives/negatives\n",
        "pos = count( 1, check_labels )\n",
        "neg = count( 0, check_labels)\n",
        "truePos = 0\n",
        "trueNeg = 0\n",
        "falsePos = 0\n",
        "falseNeg = 0\n",
        "\n",
        "#Runs through the check array and finds the number of unsure, correct, and incorrect predictions\n",
        "for x in range( len( check_features ) ):\n",
        "  if classes[x] < 0.4:\n",
        "    classes_rounded[x] = 0\n",
        "  elif classes[x] > 0.6:\n",
        "    classes_rounded[x] = 1\n",
        "  else:\n",
        "    classes_rounded[x] = 2\n",
        "  \n",
        "  if classes_rounded[x] == 2:\n",
        "    unsure += 1\n",
        "  elif classes_rounded[x] == check_labels[x]:\n",
        "    if check_labels[x] == 0:\n",
        "      trueNeg += 1\n",
        "    else:\n",
        "      truePos += 1\n",
        "    correct += 1\n",
        "  else:\n",
        "    if check_labels[x] == 0:\n",
        "      falsePos += 1\n",
        "    else:\n",
        "      falseNeg += 1\n",
        "    wrong += 1\n",
        "\n",
        "print( \"The model made \" + str( correct ) + \" correct predictions, \" + str( wrong ) + \" wrong predictions, \" + \" and was unsure \" + str( unsure ) + \" times.\" )"
      ],
      "execution_count": null,
      "outputs": [
        {
          "output_type": "stream",
          "text": [
            "The model made 551 correct predictions, 5 wrong predictions,  and was unsure 2 times.\n"
          ],
          "name": "stdout"
        }
      ]
    },
    {
      "cell_type": "code",
      "metadata": {
        "id": "5ewKSURt74Ac",
        "colab": {
          "base_uri": "https://localhost:8080/"
        },
        "outputId": "91beb04e-e4ce-4586-c636-f1bbf209562b"
      },
      "source": [
        "#Calculates various evaluation metrics for the model\n",
        "accuracy = correct / ( correct + wrong + unsure )\n",
        "precision = truePos / ( truePos + falsePos )\n",
        "recall = truePos / ( truePos + falseNeg )\n",
        "f1 = 2 * ( ( precision * recall ) / ( precision + recall ) )\n",
        "\n",
        "#Prints out the metrics\n",
        "print( \"The accuracy was \" + str( accuracy ) )\n",
        "print( \"The precision was \" + str( precision ) )\n",
        "print( \"The recall was \" + str( recall ) )\n",
        "print( \"The f1 was \" + str( f1 ) )"
      ],
      "execution_count": null,
      "outputs": [
        {
          "output_type": "stream",
          "text": [
            "The accuracy was 0.9874551971326165\n",
            "The precision was 0.9852941176470589\n",
            "The recall was 0.9436619718309859\n",
            "The f1 was 0.9640287769784172\n"
          ],
          "name": "stdout"
        }
      ]
    },
    {
      "cell_type": "code",
      "metadata": {
        "colab": {
          "base_uri": "https://localhost:8080/"
        },
        "id": "AT3yRmOMGve2",
        "outputId": "6758041c-61d4-4f8a-d591-edf756120c18"
      },
      "source": [
        ""
      ],
      "execution_count": null,
      "outputs": [
        {
          "output_type": "stream",
          "text": [
            "486\n"
          ],
          "name": "stdout"
        }
      ]
    },
    {
      "cell_type": "code",
      "metadata": {
        "id": "F7_FLUt0Gw6F"
      },
      "source": [
        ""
      ],
      "execution_count": null,
      "outputs": []
    }
  ]
}